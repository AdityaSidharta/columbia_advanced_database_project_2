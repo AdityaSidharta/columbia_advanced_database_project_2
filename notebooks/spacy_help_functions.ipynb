{
 "cells": [
  {
   "cell_type": "code",
   "execution_count": 1,
   "id": "2b97bf4b",
   "metadata": {},
   "outputs": [
    {
     "name": "stdout",
     "output_type": "stream",
     "text": [
      "/home/aditya/git/columbia_advanced_database_project_2/SpanBERT\n"
     ]
    }
   ],
   "source": [
    "%cd /home/aditya/git/columbia_advanced_database_project_2/SpanBERT"
   ]
  },
  {
   "cell_type": "code",
   "execution_count": 2,
   "id": "4eca1a9f",
   "metadata": {},
   "outputs": [
    {
     "name": "stderr",
     "output_type": "stream",
     "text": [
      "/home/aditya/.pyenv/versions/my_env/lib/python3.6/site-packages/tqdm/auto.py:22: TqdmWarning: IProgress not found. Please update jupyter and ipywidgets. See https://ipywidgets.readthedocs.io/en/stable/user_install.html\n",
      "  from .autonotebook import tqdm as notebook_tqdm\n"
     ]
    }
   ],
   "source": [
    "import spacy"
   ]
  },
  {
   "cell_type": "code",
   "execution_count": 3,
   "id": "a24aecee",
   "metadata": {},
   "outputs": [],
   "source": [
    "spacy2bert = { \n",
    "        \"ORG\": \"ORGANIZATION\",\n",
    "        \"PERSON\": \"PERSON\",\n",
    "        \"GPE\": \"LOCATION\", \n",
    "        \"LOC\": \"LOCATION\",\n",
    "        \"DATE\": \"DATE\"\n",
    "        }\n",
    "\n",
    "bert2spacy = {\n",
    "        \"ORGANIZATION\": \"ORG\",\n",
    "        \"PERSON\": \"PERSON\",\n",
    "        \"LOCATION\": \"LOC\",\n",
    "        \"CITY\": \"GPE\",\n",
    "        \"COUNTRY\": \"GPE\",\n",
    "        \"STATE_OR_PROVINCE\": \"GPE\",\n",
    "        \"DATE\": \"DATE\"\n",
    "        }"
   ]
  },
  {
   "cell_type": "code",
   "execution_count": 5,
   "id": "26d690af",
   "metadata": {},
   "outputs": [],
   "source": [
    "def get_entities(sentence, entities_of_interest):\n",
    "    return [(e.text, spacy2bert[e.label_]) for e in sentence.ents if e.label_ in spacy2bert]\n",
    "\n",
    "\n",
    "def create_entity_pairs(sents_doc, entities_of_interest, window_size=40):\n",
    "    '''\n",
    "    Input: a spaCy Sentence object and a list of entities of interest\n",
    "    Output: list of extracted entity pairs: (text, entity1, entity2)\n",
    "    '''\n",
    "    entities_of_interest = {bert2spacy[b] for b in entities_of_interest}\n",
    "    ents = sents_doc.ents # get entities for given sentence\n",
    "\n",
    "    length_doc = len(sents_doc)\n",
    "    entity_pairs = []\n",
    "    for i in range(len(ents)):\n",
    "        e1 = ents[i]\n",
    "        if e1.label_ not in entities_of_interest:\n",
    "            continue\n",
    "\n",
    "        for j in range(1, len(ents) - i):\n",
    "            e2 = ents[i + j]\n",
    "            if e2.label_ not in entities_of_interest:\n",
    "                continue\n",
    "            if e1.text.lower() == e2.text.lower(): # make sure e1 != e2\n",
    "                continue\n",
    "\n",
    "            if (1 <= (e2.start - e1.end) <= window_size):\n",
    "\n",
    "                punc_token = False\n",
    "                start = e1.start - 1 - sents_doc.start\n",
    "                if start > 0:\n",
    "                    while not punc_token:\n",
    "                        punc_token = sents_doc[start].is_punct\n",
    "                        start -= 1\n",
    "                        if start < 0:\n",
    "                            break\n",
    "                    left_r = start + 2 if start > 0 else 0\n",
    "                else:\n",
    "                    left_r = 0\n",
    "\n",
    "                # Find end of sentence\n",
    "                punc_token = False\n",
    "                start = e2.end - sents_doc.start\n",
    "                if start < length_doc:\n",
    "                    while not punc_token:\n",
    "                        punc_token = sents_doc[start].is_punct\n",
    "                        start += 1\n",
    "                        if start == length_doc:\n",
    "                            break\n",
    "                    right_r = start if start < length_doc else length_doc\n",
    "                else:\n",
    "                    right_r = length_doc\n",
    "\n",
    "                if (right_r - left_r) > window_size: # sentence should not be longer than window_size\n",
    "                    continue\n",
    "\n",
    "                x = [token.text for token in sents_doc[left_r:right_r]]\n",
    "                gap = sents_doc.start + left_r\n",
    "                e1_info = (e1.text, spacy2bert[e1.label_], (e1.start - gap, e1.end - gap - 1))\n",
    "                e2_info = (e2.text, spacy2bert[e2.label_], (e2.start - gap, e2.end - gap - 1))\n",
    "                if e1.start == e1.end:\n",
    "                    assert x[e1.start-gap] == e1.text, \"{}, {}\".format(e1_info, x)\n",
    "                if e2.start == e2.end:\n",
    "                    assert x[e2.start-gap] == e2.text, \"{}, {}\".format(e2_info, x)\n",
    "                entity_pairs.append((x, e1_info, e2_info))\n",
    "    return entity_pairs\n",
    "\n"
   ]
  },
  {
   "cell_type": "code",
   "execution_count": 6,
   "id": "a3412611",
   "metadata": {},
   "outputs": [
    {
     "name": "stderr",
     "output_type": "stream",
     "text": [
      "ERROR:root:Internal Python error in the inspect module.\n",
      "Below is the traceback from this internal error.\n",
      "\n"
     ]
    },
    {
     "name": "stdout",
     "output_type": "stream",
     "text": [
      "Traceback (most recent call last):\n",
      "  File \"/home/aditya/.pyenv/versions/my_env/lib/python3.6/site-packages/IPython/core/interactiveshell.py\", line 3319, in run_code\n",
      "    exec(code_obj, self.user_global_ns, self.user_ns)\n",
      "  File \"<ipython-input-6-46e2e44f8f0a>\", line 1, in <module>\n",
      "    html = open('21storm.html').read()\n",
      "FileNotFoundError: [Errno 2] No such file or directory: '21storm.html'\n",
      "\n",
      "During handling of the above exception, another exception occurred:\n",
      "\n",
      "Traceback (most recent call last):\n",
      "  File \"/home/aditya/.pyenv/versions/my_env/lib/python3.6/site-packages/IPython/core/interactiveshell.py\", line 2034, in showtraceback\n",
      "    stb = value._render_traceback_()\n",
      "AttributeError: 'FileNotFoundError' object has no attribute '_render_traceback_'\n",
      "\n",
      "During handling of the above exception, another exception occurred:\n",
      "\n",
      "Traceback (most recent call last):\n",
      "  File \"/home/aditya/.pyenv/versions/my_env/lib/python3.6/site-packages/IPython/core/ultratb.py\", line 1101, in get_records\n",
      "    return _fixed_getinnerframes(etb, number_of_lines_of_context, tb_offset)\n",
      "  File \"/home/aditya/.pyenv/versions/my_env/lib/python3.6/site-packages/IPython/core/ultratb.py\", line 319, in wrapped\n",
      "    return f(*args, **kwargs)\n",
      "  File \"/home/aditya/.pyenv/versions/my_env/lib/python3.6/site-packages/IPython/core/ultratb.py\", line 353, in _fixed_getinnerframes\n",
      "    records = fix_frame_records_filenames(inspect.getinnerframes(etb, context))\n",
      "  File \"/home/aditya/.pyenv/versions/3.6.9/lib/python3.6/inspect.py\", line 1490, in getinnerframes\n",
      "    frameinfo = (tb.tb_frame,) + getframeinfo(tb, context)\n",
      "  File \"/home/aditya/.pyenv/versions/3.6.9/lib/python3.6/inspect.py\", line 1448, in getframeinfo\n",
      "    filename = getsourcefile(frame) or getfile(frame)\n",
      "  File \"/home/aditya/.pyenv/versions/3.6.9/lib/python3.6/inspect.py\", line 696, in getsourcefile\n",
      "    if getattr(getmodule(object, filename), '__loader__', None) is not None:\n",
      "  File \"/home/aditya/.pyenv/versions/3.6.9/lib/python3.6/inspect.py\", line 725, in getmodule\n",
      "    file = getabsfile(object, _filename)\n",
      "  File \"/home/aditya/.pyenv/versions/3.6.9/lib/python3.6/inspect.py\", line 709, in getabsfile\n",
      "    return os.path.normcase(os.path.abspath(_filename))\n",
      "  File \"/home/aditya/.pyenv/versions/3.6.9/lib/python3.6/posixpath.py\", line 383, in abspath\n",
      "    cwd = os.getcwd()\n",
      "FileNotFoundError: [Errno 2] No such file or directory\n"
     ]
    },
    {
     "ename": "FileNotFoundError",
     "evalue": "[Errno 2] No such file or directory: '21storm.html'",
     "output_type": "error",
     "traceback": [
      "\u001b[0;31m---------------------------------------------------------------------------\u001b[0m"
     ]
    }
   ],
   "source": []
  }
 ],
 "metadata": {
  "kernelspec": {
   "display_name": "adv_db2",
   "language": "python",
   "name": "adv_db2"
  },
  "language_info": {
   "codemirror_mode": {
    "name": "ipython",
    "version": 3
   },
   "file_extension": ".py",
   "mimetype": "text/x-python",
   "name": "python",
   "nbconvert_exporter": "python",
   "pygments_lexer": "ipython3",
   "version": "3.6.9"
  }
 },
 "nbformat": 4,
 "nbformat_minor": 5
}
